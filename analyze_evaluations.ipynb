{
 "cells": [
  {
   "cell_type": "code",
   "execution_count": 1,
   "id": "e37e0329-a207-4174-9a5b-d54ea0ba0afe",
   "metadata": {},
   "outputs": [],
   "source": [
    "import numpy as np\n",
    "import pandas as pd\n",
    "import os"
   ]
  },
  {
   "cell_type": "code",
   "execution_count": 2,
   "id": "113ffb54-f158-42c5-8050-a9865d4bbc24",
   "metadata": {},
   "outputs": [],
   "source": [
    "names_df = pd.read_csv('data/NINCO_class_names.csv')\n",
    "names_df.sort_values(by='printname', inplace=True, key=lambda col: col.str.lower())"
   ]
  },
  {
   "cell_type": "code",
   "execution_count": 3,
   "id": "922c6b95-8518-44f1-abfd-faf314f68700",
   "metadata": {},
   "outputs": [],
   "source": [
    "path_to_cache = 'cache'"
   ]
  },
  {
   "cell_type": "code",
   "execution_count": 10,
   "id": "681573f7-d4e9-4f54-836f-5f136fbdd2c2",
   "metadata": {},
   "outputs": [],
   "source": [
    "model_names = ['BiT_m']#['vit_base_patch16_384_21kpre']"
   ]
  },
  {
   "cell_type": "code",
   "execution_count": 11,
   "id": "ec5d7515-dce6-48a1-b7c8-2ca1a34f7624",
   "metadata": {},
   "outputs": [
    {
     "name": "stdout",
     "output_type": "stream",
     "text": [
      "No evaluation outputs found for cache/scores/BiT_m/NINCO_OOD_unit_tests.\n",
      "No evaluation outputs found for cache/scores/BiT_m/NINCO_popular_datasets_subsamples.\n"
     ]
    }
   ],
   "source": [
    "model_name = model_names[0]\n",
    "evaluation_outputs = {}\n",
    "for ood_dataset, ood_dataset_name in {'NINCO': 'NINCO_OOD_classes',\n",
    "                    'NINCO_OOD_unit_tests': 'NINCO_OOD_unit_tests',\n",
    "                    'NINCO_popular_datasets_subsamples': 'NINCO_popular_datasets_subsamples'\n",
    "                   }.items():\n",
    "\n",
    "    outputs_load_path = os.path.join(path_to_cache, 'scores', model_name, ood_dataset_name)\n",
    "    if not os.path.exists(outputs_load_path):\n",
    "        print(f'No evaluation outputs found for {outputs_load_path}.')\n",
    "        continue\n",
    "    score_files = sorted([os.path.join(outputs_load_path, f) for f in os.listdir(outputs_load_path) if f.endswith('.npz')])\n",
    "    if not os.listdir(outputs_load_path):\n",
    "        print(f'No evaluation outputs found at {latest_score_file}.')\n",
    "        continue\n",
    "\n",
    "    latest_score_file = score_files[-1]\n",
    "    evaluation_outputs[ood_dataset] = np.load(latest_score_file, allow_pickle=True)"
   ]
  },
  {
   "cell_type": "code",
   "execution_count": 12,
   "id": "7ffdc173-bc8f-48d4-88fd-a4c37a54188c",
   "metadata": {},
   "outputs": [
    {
     "data": {
      "text/plain": [
       "{'NINCO': <numpy.lib.npyio.NpzFile at 0x7f82129ac9a0>}"
      ]
     },
     "execution_count": 12,
     "metadata": {},
     "output_type": "execute_result"
    }
   ],
   "source": [
    "evaluation_outputs"
   ]
  },
  {
   "cell_type": "code",
   "execution_count": 13,
   "id": "193e5407-8582-4a49-a485-8932928e9754",
   "metadata": {},
   "outputs": [],
   "source": [
    "MSP_results = {k:v['methods_results'].item()['Mahalanobis'] for k,v in evaluation_outputs.items()}"
   ]
  },
  {
   "cell_type": "code",
   "execution_count": 14,
   "id": "a0dc0371-cc06-4176-b2ae-2a178a50f0ed",
   "metadata": {},
   "outputs": [
    {
     "name": "stdout",
     "output_type": "stream",
     "text": [
      "AFA (cyanobacterium)                      2.17%\n",
      "bluestriped grunt                        50.51%\n",
      "California pitcher plant                  3.00%\n",
      "California slender salamander            69.00%\n",
      "California two-spot octopus              78.00%\n",
      "caracal                                  90.00%\n",
      "cat-faced spider                         77.00%\n",
      "Central American tapir                   91.00%\n",
      "chicken quesadilla                       96.00%\n",
      "common cuttlefish                        87.00%\n",
      "crème brûlée                             46.46%\n",
      "cupcakes                                 58.75%\n",
      "donuts                                   76.00%\n",
      "dreamfish                                25.00%\n",
      "dune thistle                             10.00%\n",
      "dusky flathead (fish)                    80.00%\n",
      "E. micromeris (cactus)                    8.00%\n",
      "Eastern leaf-footed bug                  82.00%\n",
      "European paper wasp                      60.00%\n",
      "false killer whale                       71.64%\n",
      "field road                               63.54%\n",
      "forest path                              31.00%\n",
      "Franciscan wallflower                     0.00%\n",
      "Galápagos fur seal                       97.80%\n",
      "giant cuttlefish                         77.78%\n",
      "Horse Hoof clam                          54.84%\n",
      "Indo-Pacific bottlenose dolphin          64.00%\n",
      "long-tailed silverfish                   56.00%\n",
      "Lumholtz's tree-kangaroo                 91.00%\n",
      "M. wesenbergii (cyanobacterium)           0.00%\n",
      "marbled newt                             87.00%\n",
      "Mexican lime cactus                       0.00%\n",
      "Pampas deer                              95.12%\n",
      "redbreast sunfish                        54.00%\n",
      "rosybells (flowering plant)               0.00%\n",
      "ruby octopus                             67.00%\n",
      "silver-haired bat                        29.29%\n",
      "skipper caterpillar                      12.00%\n",
      "sky                                      23.53%\n",
      "southern calamari                        42.42%\n",
      "spaghetti bolognese                      77.61%\n",
      "sweet pea                                 2.00%\n",
      "two-toed amphiuma (salamander)           73.30%\n",
      "waffles                                  50.82%\n",
      "yellow trumpets                           0.00%\n",
      "ʻōhelo ʻai (flowering plant)              0.00%\n"
     ]
    }
   ],
   "source": [
    "i = 0\n",
    "for index, row in names_df.iterrows():\n",
    "    if row['benchmark status'] == '1':\n",
    "        s = f\"{row['printname']}\"\n",
    "        if not pd.isnull(row['printname add-on in parentheses']):\n",
    "            s += f\" ({row['printname add-on in parentheses']})\"\n",
    "        s = s.ljust(40)\n",
    "        s += f\"{MSP_results['NINCO'][row['filename']]['fpr_at_95']:3.2%}\".rjust(7)\n",
    "        print(s)"
   ]
  },
  {
   "cell_type": "code",
   "execution_count": null,
   "id": "24666c02",
   "metadata": {},
   "outputs": [],
   "source": []
  }
 ],
 "metadata": {
  "kernelspec": {
   "display_name": "Python 3 (ipykernel)",
   "language": "python",
   "name": "python3"
  },
  "language_info": {
   "codemirror_mode": {
    "name": "ipython",
    "version": 3
   },
   "file_extension": ".py",
   "mimetype": "text/x-python",
   "name": "python",
   "nbconvert_exporter": "python",
   "pygments_lexer": "ipython3",
   "version": "3.9.16"
  }
 },
 "nbformat": 4,
 "nbformat_minor": 5
}
